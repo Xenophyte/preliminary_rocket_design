{
 "cells": [
  {
   "cell_type": "code",
   "execution_count": 13,
   "metadata": {
    "collapsed": false
   },
   "outputs": [],
   "source": [
    "import os, subprocess"
   ]
  },
  {
   "cell_type": "code",
   "execution_count": 14,
   "metadata": {
    "collapsed": false
   },
   "outputs": [],
   "source": [
    "def make_input(input_dictionary):\n",
    "    os.chdir(\"/Applications/CEA\")\n",
    "    filename = \"rocket\"+str(input_dictionary[\"case number\"])+\".inp\"\n",
    "    #return (input_dictionary[\"case number\"],input_dictionary[\"OFratio\"],input_dictionary[\"chamber-to-throat area ratio\"],input_dictionary[\"chamber temperature\"],input_dictionary[\"pressure ratio\"],input_dictionary[\"fuel\"],input_dictionary[\"oxidizer\"])\n",
    "    text = \"\"\"problem   case={} o/f={},\\n    rocket  fac   ac/at={}  tcest,k={}\\n  p,psia={},\\n  pi/p={},\n",
    "react  \\n  fuel={} moles=1.  t,k={}  \\n  oxid={} moles=1.  \\nonly \\n  Ar C CO CO2 H H2 H2O HNO HO2 HNO2 HNO3 N NH NO N2 N2O3 O O2 OH O3 \\noutput  massf transport \\n    plot isp \\nend\"\"\"\n",
    "    text = text.format(input_dictionary[\"case number\"],\n",
    "                       input_dictionary[\"OFratio\"],\n",
    "                       input_dictionary[\"chamber-to-throat area ratio\"],\n",
    "                       input_dictionary[\"chamber temperature\"],\n",
    "                       input_dictionary[\"chamber pressure\"],\n",
    "                       input_dictionary[\"pressure ratio\"],\n",
    "                       input_dictionary[\"fuel\"],\n",
    "                       input_dictionary[\"fuel temperature\"],\n",
    "                       input_dictionary[\"oxidizer\"])\n",
    "    with open(filename,\"w\") as f:\n",
    "        data = f.write(text)\n",
    "    return filename\n",
    "        \n",
    "def runCEA(filename):\n",
    "    filename_no_extension = filename.split('.inp')[0]\n",
    "    p = subprocess.Popen(['FCEA2'], stdout=subprocess.PIPE, stdin=subprocess.PIPE, stderr=subprocess.PIPE)\n",
    "    stdout_data = p.communicate(input=filename_no_extension.encode('utf-8'))[0]\n",
    "    return filename_no_extension+\".out\"\n",
    "    \n",
    "def extract_values(filename):\n",
    "    output_dict = {}\n",
    "    with open(filename) as f:\n",
    "        text = f.read()\n",
    "        #extract injector and chamber temperatures\n",
    "        s = text.split(\"T, K\")[1].split(\" \")\n",
    "        i = 0\n",
    "        for token in s:\n",
    "            if len(token)>0:\n",
    "                i += 1\n",
    "                if i == 1:\n",
    "                    output_dict[\"injector temperature\"] = float(token)\n",
    "                elif i == 2:\n",
    "                    output_dict[\"chamber end temperature\"] = float(token)\n",
    "                    break\n",
    "        #extract Ae/At\n",
    "        s = text.split(\"Ae/At\")[1].split(\" \")\n",
    "        i = 0\n",
    "        for token in s:\n",
    "            if len(token)>0:\n",
    "                i += 1\n",
    "                if i == 3:\n",
    "                    output_dict[\"throat-to-exit area ratio\"] = float(token)\n",
    "                    break\n",
    "        #extract Cstar\n",
    "        s = text.split(\"CSTAR, M/SEC\")[1].split(\" \")\n",
    "        i = 0\n",
    "        for token in s:\n",
    "            if len(token)>0:\n",
    "                i += 1\n",
    "                if i == 1:\n",
    "                    output_dict[\"Cstar\"] = float(token)\n",
    "                    break\n",
    "        #extract Ivac\n",
    "        s = text.split(\"Ivac, M/SEC\")[1].split(\" \")\n",
    "        i = 0\n",
    "        for token in s:\n",
    "            if len(token)>0:\n",
    "                i += 1\n",
    "                if i == 3:\n",
    "                    output_dict[\"Ivac\"] = float(token)\n",
    "                    break\n",
    "        #extract Isp\n",
    "        s = text.split(\"Isp, M/SEC\")[1].split(\" \")\n",
    "        i = 0\n",
    "        for token in s:\n",
    "            if len(token)>0:\n",
    "                i += 1\n",
    "                if i == 3:\n",
    "                    output_dict[\"Isp\"] = float(token)\n",
    "                    break\n",
    "        return output_dict\n",
    "    \n",
    "def runAll(input_dictionary):\n",
    "    filename = make_input(input_dictionary)\n",
    "    filename = runCEA(filename)\n",
    "    return extract_values(filename)"
   ]
  },
  {
   "cell_type": "code",
   "execution_count": 15,
   "metadata": {
    "collapsed": false
   },
   "outputs": [
    {
     "data": {
      "text/plain": [
       "{'Cstar': 1805.7,\n",
       " 'Isp': 2567.5,\n",
       " 'Ivac': 2908.8,\n",
       " 'chamber end temperature': 3366.14,\n",
       " 'injector temperature': 3369.08,\n",
       " 'throat-to-exit area ratio': 3.8352}"
      ]
     },
     "execution_count": 15,
     "metadata": {},
     "output_type": "execute_result"
    }
   ],
   "source": [
    "input_dict = {\"case number\":2003,\n",
    "              \"OFratio\":2.3,\n",
    "              \"chamber-to-throat area ratio\":5.64285736166,\n",
    "              \"chamber temperature\":3446,\n",
    "              \"chamber pressure\":300,\n",
    "              \"pressure ratio\":20.4207459666,\n",
    "              \"fuel\":\"C8H18(L),n-octa\",\n",
    "              \"fuel temperature\":298,\n",
    "              \"oxidizer\":\"O2(L)\"\n",
    "             }\n",
    "runAll(input_dict)"
   ]
  },
  {
   "cell_type": "markdown",
   "metadata": {},
   "source": [
    "## Isp vs. O/F ratio\n",
    "\n",
    "We assume a chamber pressure of 300 psi."
   ]
  },
  {
   "cell_type": "code",
   "execution_count": 31,
   "metadata": {
    "collapsed": false
   },
   "outputs": [
    {
     "data": {
      "image/png": "[encoded data removed]",
      "text/plain": [
       "<matplotlib.figure.Figure at 0x1180702e8>"
      ]
     },
     "metadata": {},
     "output_type": "display_data"
    }
   ],
   "source": [
    "import matplotlib.pyplot as plt\n",
    "import numpy as np\n",
    "\n",
    "\n",
    "input_dict = {\"case number\":2003,\n",
    "              \"chamber-to-throat area ratio\":5.64285736166,\n",
    "              \"chamber temperature\":3000,\n",
    "              \"chamber pressure\":300,\n",
    "              \"pressure ratio\":20.4207459666,\n",
    "              \"fuel\":\"C8H18(L),n-octa\",\n",
    "              \"fuel temperature\":298,\n",
    "              \"oxidizer\":\"O2(L)\"\n",
    "             }\n",
    "OFratio = np.linspace(1.2,8.0,200)\n",
    "Isp = []\n",
    "for r in OFratio:\n",
    "    input_dict[\"OFratio\"] = r\n",
    "    res = runAll(input_dict)[\"Isp\"]\n",
    "    Isp.append(res)\n",
    "Isp = np.array(Isp)\n",
    "fig, ax1 = plt.subplots()\n",
    "ax1.plot(OFratio,Isp)\n",
    "ax1.set_ylabel(\"exit velocity in m/s\")\n",
    "ax2 = ax1.twinx()\n",
    "plt.plot(OFratio,Isp/9.81)\n",
    "ax2.set_ylabel(\"specific impulse in sec\")\n",
    "plt.xlabel(\"O/F mass ratio\")\n",
    "plt.show()"
   ]
  },
  {
   "cell_type": "markdown",
   "metadata": {},
   "source": [
    "This graph shows that a mass ratio of about 2.5 yields the maximum spcific impulse"
   ]
  },
  {
   "cell_type": "code",
   "execution_count": null,
   "metadata": {
    "collapsed": true
   },
   "outputs": [],
   "source": []
  }
 ],
 "metadata": {
  "kernelspec": {
   "display_name": "Python 3",
   "language": "python",
   "name": "python3"
  },
  "language_info": {
   "codemirror_mode": {
    "name": "ipython",
    "version": 3
   },
   "file_extension": ".py",
   "mimetype": "text/x-python",
   "name": "python",
   "nbconvert_exporter": "python",
   "pygments_lexer": "ipython3",
   "version": "3.6.1"
  }
 },
 "nbformat": 4,
 "nbformat_minor": 2
}
