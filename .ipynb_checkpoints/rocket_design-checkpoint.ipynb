{
 "cells": [
  {
   "cell_type": "code",
   "execution_count": 20,
   "metadata": {
    "collapsed": false
   },
   "outputs": [],
   "source": [
    "import os, subprocess"
   ]
  },
  {
   "cell_type": "code",
   "execution_count": 106,
   "metadata": {
    "collapsed": false
   },
   "outputs": [],
   "source": [
    "def make_input(input_dictionary):\n",
    "    os.chdir(\"/Applications/CEA\")\n",
    "    filename = \"rocket\"+str(input_dictionary[\"case number\"])+\".inp\"\n",
    "    #return (input_dictionary[\"case number\"],input_dictionary[\"OFratio\"],input_dictionary[\"chamber-to-throat area ratio\"],input_dictionary[\"chamber temperature\"],input_dictionary[\"pressure ratio\"],input_dictionary[\"fuel\"],input_dictionary[\"oxidizer\"])\n",
    "    text = \"\"\"problem   case={} o/f={},\\n    rocket  fac   ac/at={}  tcest,k={}\\n  p,psia={},\\n  pi/p={},\n",
    "react  \\n  fuel={} moles=1.  t,k={}  \\n  oxid={} moles=1.  \\nonly \\n  Ar C CO CO2 H H2 H2O HNO HO2 HNO2 HNO3 N NH NO N2 N2O3 O O2 OH O3 \\noutput  massf transport \\n    plot isp \\nend\"\"\"\n",
    "    text = text.format(input_dictionary[\"case number\"],\n",
    "                       input_dictionary[\"OFratio\"],\n",
    "                       input_dictionary[\"chamber-to-throat area ratio\"],\n",
    "                       input_dictionary[\"chamber temperature\"],\n",
    "                       input_dictionary[\"chamber pressure\"],\n",
    "                       input_dictionary[\"pressure ratio\"],\n",
    "                       input_dictionary[\"fuel\"],\n",
    "                       input_dictionary[\"fuel temperature\"],\n",
    "                       input_dictionary[\"oxidizer\"])\n",
    "    with open(filename,\"w\") as f:\n",
    "        data = f.write(text)\n",
    "    return filename\n",
    "        \n",
    "def runCEA(filename):\n",
    "    filename_no_extension = filename.split('.inp')[0]\n",
    "    p = subprocess.Popen(['FCEA2'], stdout=subprocess.PIPE, stdin=subprocess.PIPE, stderr=subprocess.PIPE)\n",
    "    stdout_data = p.communicate(input=filename_no_extension.encode('utf-8'))[0]\n",
    "    return filename_no_extension+\".out\"\n",
    "    \n",
    "def extract_values(filename):\n",
    "    output_dict = {}\n",
    "    with open(filename) as f:\n",
    "        text = f.read()\n",
    "        #extract injector and chamber temperatures\n",
    "        s = text.split(\"T, K\")[1].split(\" \")\n",
    "        i = 0\n",
    "        for token in s:\n",
    "            if len(token)>0:\n",
    "                i += 1\n",
    "                if i == 1:\n",
    "                    output_dict[\"injector temperature\"] = float(token)\n",
    "                elif i == 2:\n",
    "                    output_dict[\"chamber end temperature\"] = float(token)\n",
    "                    break\n",
    "        #extract Ae/At\n",
    "        s = text.split(\"Ae/At\")[1].split(\" \")\n",
    "        i = 0\n",
    "        for token in s:\n",
    "            if len(token)>0:\n",
    "                i += 1\n",
    "                if i == 3:\n",
    "                    output_dict[\"throat-to-exit area ratio\"] = float(token)\n",
    "                    break\n",
    "        #extract Cstar\n",
    "        s = text.split(\"CSTAR, M/SEC\")[1].split(\" \")\n",
    "        i = 0\n",
    "        for token in s:\n",
    "            if len(token)>0:\n",
    "                i += 1\n",
    "                if i == 1:\n",
    "                    output_dict[\"Cstar\"] = float(token)\n",
    "                    break\n",
    "        #extract Ivac\n",
    "        s = text.split(\"Ivac, M/SEC\")[1].split(\" \")\n",
    "        i = 0\n",
    "        for token in s:\n",
    "            if len(token)>0:\n",
    "                i += 1\n",
    "                if i == 3:\n",
    "                    output_dict[\"Ivac\"] = float(token)\n",
    "                    break\n",
    "        #extract Isp\n",
    "        s = text.split(\"Isp, M/SEC\")[1].split(\" \")\n",
    "        i = 0\n",
    "        for token in s:\n",
    "            if len(token)>0:\n",
    "                i += 1\n",
    "                if i == 3:\n",
    "                    output_dict[\"Isp\"] = float(token)\n",
    "                    break\n",
    "        return output_dict"
   ]
  },
  {
   "cell_type": "code",
   "execution_count": 108,
   "metadata": {
    "collapsed": false
   },
   "outputs": [
    {
     "data": {
      "text/plain": [
       "{'Cstar': 1805.7,\n",
       " 'Isp': 2567.5,\n",
       " 'Ivac': 2908.8,\n",
       " 'chamber end temperature': 3366.14,\n",
       " 'injector temperature': 3369.08,\n",
       " 'throat-to-exit area ratio': 3.8352}"
      ]
     },
     "execution_count": 108,
     "metadata": {},
     "output_type": "execute_result"
    }
   ],
   "source": [
    "input_dict = {\"case number\":2003,\n",
    "              \"OFratio\":2.3,\n",
    "              \"chamber-to-throat area ratio\":5.64285736166,\n",
    "              \"chamber temperature\":3446,\n",
    "              \"chamber pressure\":300,\n",
    "              \"pressure ratio\":20.4207459666,\n",
    "              \"fuel\":\"C8H18(L),n-octa\",\n",
    "              \"fuel temperature\":298,\n",
    "              \"oxidizer\":\"O2(L)\"\n",
    "             }\n",
    "filename = make_input(input_dict)\n",
    "filename = runCEA(filename)\n",
    "extract_values(filename)"
   ]
  },
  {
   "cell_type": "code",
   "execution_count": null,
   "metadata": {
    "collapsed": true
   },
   "outputs": [],
   "source": [
    "def plot"
   ]
  }
 ],
 "metadata": {
  "kernelspec": {
   "display_name": "Python 3",
   "language": "python",
   "name": "python3"
  },
  "language_info": {
   "codemirror_mode": {
    "name": "ipython",
    "version": 3
   },
   "file_extension": ".py",
   "mimetype": "text/x-python",
   "name": "python",
   "nbconvert_exporter": "python",
   "pygments_lexer": "ipython3",
   "version": "3.6.1"
  }
 },
 "nbformat": 4,
 "nbformat_minor": 2
}
